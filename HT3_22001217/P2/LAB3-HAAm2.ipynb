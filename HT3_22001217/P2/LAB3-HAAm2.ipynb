{
 "cells": [
  {
   "cell_type": "markdown",
   "metadata": {},
   "source": [
    "# Text Mining & Image Recognition Hoja de Trabajo # 3\n",
    "\n",
    "Héctor Aragón\n",
    "22001217"
   ]
  },
  {
   "cell_type": "markdown",
   "metadata": {},
   "source": [
    "## Problema 2"
   ]
  },
  {
   "cell_type": "markdown",
   "metadata": {},
   "source": [
    "En la carpeta encontrará adjuntos 21 documentos que tiene 100 fechas en la secuencia díıas-mes-año pero con distinto separador y distinto formato de mes, en algunos casos aparece un numero y enotros el nombre del mes en ingles, por ejemplo: Enero pueden aparecer como 1 o como Jan. Utilice Python y expresiones regulares para encontrar el día, mes y año promedio total del los 21 archivos, los resultados deben ser un double."
   ]
  },
  {
   "cell_type": "code",
   "execution_count": 14,
   "metadata": {},
   "outputs": [],
   "source": [
    "month_map = {\n",
    "    'Jan': 1, 'Feb': 2, 'Mar': 3, 'Apr': 4, 'May': 5, 'Jun': 6,\n",
    "    'Jul': 7, 'Aug': 8, 'Sep': 9, 'Oct': 10, 'Nov': 11, 'Dec': 12\n",
    "}\n"
   ]
  },
  {
   "cell_type": "code",
   "execution_count": 15,
   "metadata": {},
   "outputs": [
    {
     "name": "stdout",
     "output_type": "stream",
     "text": [
      "Promedio del día: 15.62\n",
      "Promedio del mes: 6.47\n",
      "Promedio del año: 2016.69\n"
     ]
    }
   ],
   "source": [
    "import re\n",
    "import os\n",
    "\n",
    "# Diccionario para mapear nombres de meses en inglés a números\n",
    "month_map = {\n",
    "    'Jan': 1, 'Feb': 2, 'Mar': 3, 'Apr': 4, 'May': 5, 'Jun': 6,\n",
    "    'Jul': 7, 'Aug': 8, 'Sep': 9, 'Oct': 10, 'Nov': 11, 'Dec': 12\n",
    "}\n",
    "\n",
    "# Expresión regular para capturar fechas\n",
    "date_regex = r'(\\d{1,2})([./-])(\\d{1,2}|Jan|Feb|Mar|Apr|May|Jun|Jul|Aug|Sep|Oct|Nov|Dec)\\2(\\d{2,4})'\n",
    "\n",
    "# Variables para almacenar las sumas\n",
    "total_days = 0\n",
    "total_months = 0\n",
    "total_years = 0\n",
    "count = 0\n",
    "\n",
    "# Recorrer cada archivo en la carpeta datos\n",
    "for filename in os.listdir('datos'):\n",
    "    if filename.endswith(\".txt\"):\n",
    "        with open(os.path.join('datos', filename), 'r') as file:\n",
    "            content = file.read()\n",
    "            matches = re.findall(date_regex, content)\n",
    "            for match in matches:\n",
    "                # Extraer el día, mes y año de la coincidencia\n",
    "                day = int(match[0])\n",
    "                month = match[2]\n",
    "                year = int(match[3])\n",
    "\n",
    "                # Convertir el mes a número si es necesario\n",
    "                if month in month_map:\n",
    "                    month = month_map[month]\n",
    "                else:\n",
    "                    month = int(month)\n",
    "\n",
    "                # Sumar los valores a los totales\n",
    "                total_days += day\n",
    "                total_months += month\n",
    "                total_years += year\n",
    "                count += 1\n",
    "\n",
    "# Calcular los promedios\n",
    "average_day = total_days / count\n",
    "average_month = total_months / count\n",
    "average_year = total_years / count\n",
    "\n",
    "print(f\"Promedio del día: {average_day:.2f}\")\n",
    "print(f\"Promedio del mes: {average_month:.2f}\")\n",
    "print(f\"Promedio del año: {average_year:.2f}\")\n"
   ]
  }
 ],
 "metadata": {
  "kernelspec": {
   "display_name": "base",
   "language": "python",
   "name": "python3"
  },
  "language_info": {
   "codemirror_mode": {
    "name": "ipython",
    "version": 3
   },
   "file_extension": ".py",
   "mimetype": "text/x-python",
   "name": "python",
   "nbconvert_exporter": "python",
   "pygments_lexer": "ipython3",
   "version": "3.11.4"
  },
  "orig_nbformat": 4
 },
 "nbformat": 4,
 "nbformat_minor": 2
}
