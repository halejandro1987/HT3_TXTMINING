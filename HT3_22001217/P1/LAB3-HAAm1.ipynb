{
 "cells": [
  {
   "cell_type": "markdown",
   "metadata": {},
   "source": [
    "# Text Mining & Image Recognition Hoja de Trabajo # 3\n",
    "\n",
    "Héctor Aragón\n",
    "22001217"
   ]
  },
  {
   "cell_type": "markdown",
   "metadata": {},
   "source": [
    "## Problema 1"
   ]
  },
  {
   "cell_type": "markdown",
   "metadata": {},
   "source": [
    "1. Utilice expresiones regulares para validar las siguintes situaciones: 1. Implemente una regex para validar un correo electronico en general, a continuación se muestran algunos ejemplos. Guate.360-porelmundo@miguate.com\n",
    "Miercoles3@hotmail.com,Progra3.galileo@galileo.edu"
   ]
  },
  {
   "cell_type": "code",
   "execution_count": 6,
   "metadata": {},
   "outputs": [
    {
     "name": "stdout",
     "output_type": "stream",
     "text": [
      "'Guate.360-porelmundo@miguate.com' es válido.\n",
      "'Miercoles3@hotmail.com' es válido.\n",
      "'Progra3.galileo@galileo.edu' es válido.\n",
      "'mariafatal@nicaragua' no es válido.\n",
      "'halejandro.aragonm@gmail.com' es válido.\n",
      "'harry_potter.org' no es válido.\n"
     ]
    }
   ],
   "source": [
    "import re\n",
    "\n",
    "# Expresión para validar un correo electrónico\n",
    "email_regex = r'^[a-zA-Z0-9._-]+@[a-zA-Z0-9.-]+\\.[a-zA-Z]{2,4}$'\n",
    "\n",
    "emails = [\n",
    "    \"Guate.360-porelmundo@miguate.com\",\n",
    "    \"Miercoles3@hotmail.com\",\n",
    "    \"Progra3.galileo@galileo.edu\",\n",
    "    \"mariafatal@nicaragua\",\n",
    "    \"halejandro.aragonm@gmail.com\",\n",
    "    \"harry_potter.org\",\n",
    "\n",
    "]\n",
    "\n",
    "for email in emails:\n",
    "    if re.match(email_regex, email):\n",
    "        print(f\"'{email}' es válido.\")\n",
    "    else:\n",
    "        print(f\"'{email}' no es válido.\")\n"
   ]
  },
  {
   "cell_type": "markdown",
   "metadata": {},
   "source": [
    "2. implemente una regex para validar la direccióon url de una pagina web con los tipos de domino\n",
    "(.com, .org, .edu). Note que la url incluye el protocolo (http o https) y los sımbolos (//www.),\n",
    "a continuacion se muestran algunos ejemplos:"
   ]
  },
  {
   "cell_type": "code",
   "execution_count": 7,
   "metadata": {},
   "outputs": [
    {
     "name": "stdout",
     "output_type": "stream",
     "text": [
      "'https://www.guate360-porelmundo.com' es válida.\n",
      "'http://www.a2.net' no es válida.\n",
      "'https://www.galileo.edu' es válida.\n",
      "'http://www.8.org' es válida.\n"
     ]
    }
   ],
   "source": [
    "import re\n",
    "\n",
    "# Expresión  para validar una URL\n",
    "url_regex = r'^(http|https)://www\\.[a-zA-Z0-9.-]+(\\.com|\\.org|\\.edu)$'\n",
    "\n",
    "urls = [\n",
    "    \"https://www.guate360-porelmundo.com\",\n",
    "    \"http://www.a2.net\",   # Notará que esta URL no es válida porque tiene \".net\"\n",
    "    \"https://www.galileo.edu\",\n",
    "    \"http://www.8.org\"    # Esta URL es válida de acuerdo a la regex, pero el ejercicio la marca como \"(No valida)\"\n",
    "]\n",
    "\n",
    "for url in urls:\n",
    "    if re.match(url_regex, url):\n",
    "        print(f\"'{url}' es válida.\")\n",
    "    else:\n",
    "        print(f\"'{url}' no es válida.\")\n"
   ]
  },
  {
   "cell_type": "markdown",
   "metadata": {},
   "source": [
    "3. Implemente una regex para validar una MAC Address, notar que las mac address están\n",
    "divididas en 6 bloques de caracteres hexadecimales, es decir que los sımbolos solo pueden\n",
    "variar del 0 al 9 y las letras de la A a la F. a continuación se muestran algunos ejemplos:"
   ]
  },
  {
   "cell_type": "code",
   "execution_count": 8,
   "metadata": {},
   "outputs": [
    {
     "name": "stdout",
     "output_type": "stream",
     "text": [
      "'5A 6F AF 8C 9B 1D' es válida.\n",
      "'6D 6C 4D 3A EB 3F' es válida.\n",
      "'3A 7C FA C8 6D 4J' no es válida.\n"
     ]
    }
   ],
   "source": [
    "import re\n",
    "\n",
    "# Expresión regular para validar una MAC Address\n",
    "mac_regex = r'^([0-9A-Fa-f]{2} ){5}[0-9A-Fa-f]{2}$'\n",
    "\n",
    "mac_addresses = [\n",
    "    \"5A 6F AF 8C 9B 1D\",\n",
    "    \"6D 6C 4D 3A EB 3F\",\n",
    "    \"3A 7C FA C8 6D 4J\"  # Esta MAC no es válida porque contiene una \"J\"\n",
    "]\n",
    "\n",
    "for mac in mac_addresses:\n",
    "    if re.match(mac_regex, mac):\n",
    "        print(f\"'{mac}' es válida.\")\n",
    "    else:\n",
    "        print(f\"'{mac}' no es válida.\")\n"
   ]
  },
  {
   "cell_type": "markdown",
   "metadata": {},
   "source": [
    "4. Implemente una regex para validar una direccióon IPv4, notar que las direcciones IPv4 están\n",
    "divididas en 4 bloques de valores los cuales solo pueden ir desde 0 hasta 255, una ip donde\n",
    "algunos de sus bloques sea mayor a 255 no es valida, ademas tome en cuenta que cada bloque\n",
    "está separado por un punto. A continuacióon se muestran algunos ejemplos:"
   ]
  },
  {
   "cell_type": "code",
   "execution_count": 12,
   "metadata": {},
   "outputs": [
    {
     "name": "stdout",
     "output_type": "stream",
     "text": [
      "'192.16.8.1' es válida.\n",
      "'234.56.78.90' es válida.\n",
      "'192.168.45.345' no es válida.\n"
     ]
    }
   ],
   "source": [
    "import re\n",
    "\n",
    "# Expresión regular para validar una dirección IP\n",
    "IP_regex = r'^(25[0-5]|2[0-4][0-9]|[0-1]?[0-9]{1,2})\\.' \\\n",
    "           r'(25[0-5]|2[0-4][0-9]|[0-1]?[0-9]{1,2})\\.' \\\n",
    "           r'(25[0-5]|2[0-4][0-9]|[0-1]?[0-9]{1,2})\\.' \\\n",
    "           r'(25[0-5]|2[0-4][0-9]|[0-1]?[0-9]{1,2})$'\n",
    "\n",
    "\n",
    "ips_addres = [\n",
    "    \"192.16.8.1\",\n",
    "    \"234.56.78.90\",\n",
    "    \"192.168.45.345\"  # no es válida por el 345\n",
    "]\n",
    "\n",
    "for ips in ips_addres:\n",
    "    if re.match(IP_regex, ips):\n",
    "        print(f\"'{ips}' es válida.\")\n",
    "    else:\n",
    "        print(f\"'{ips}' no es válida.\")\n"
   ]
  },
  {
   "cell_type": "markdown",
   "metadata": {},
   "source": [
    "5. Implemente una regex para validar una fecha con la secuencia día-mes-año donde el dia, mes y año puedan estar separados ya sea por el caracter / o el caracter - o el caráacter ., notar que las fechas son validas si los si los dıas están definidos desde el 1 al 31, el mes del 1 al 12 y el año de 2000 al 2019. Tambien debe tomar en cuenta que los días y meses pueden estar escritos ya sea con uno o dos caracteres por ejemplo: Enero puede escribirse como 1 o como\n",
    "Los años tambien pueden expresarse ya sea con dos o con cuatro caracteres por ejemplo:\n",
    "19 o 2019 son validos. A continuacion se muestran algunos ejemplos:"
   ]
  },
  {
   "cell_type": "code",
   "execution_count": 13,
   "metadata": {},
   "outputs": [
    {
     "name": "stdout",
     "output_type": "stream",
     "text": [
      "'20/1/2019' es válida.\n",
      "'12.03.2005' es válida.\n",
      "'31-11-08' es válida.\n",
      "'1-1-2012' es válida.\n",
      "'12-12-22' no es válida.\n"
     ]
    }
   ],
   "source": [
    "# Expresión de validación de la fecha según los requisitos especificados\n",
    "date_regex = r'^(0?[1-9]|[12][0-9]|3[01])([./-])(0?[1-9]|1[0-2])\\2((200[0-9]|201[0-9])|(0?[0-9]|1[0-9]))$'\n",
    "\n",
    "dates = [\n",
    "    \"20/1/2019\",\n",
    "    \"12.03.2005\",\n",
    "    \"31-11-08\",\n",
    "    \"1-1-2012\",\n",
    "    \"12-12-22\"\n",
    "]\n",
    "\n",
    "for date in dates:\n",
    "    if re.match(date_regex, date):\n",
    "        print(f\"'{date}' es válida.\")\n",
    "    else:\n",
    "        print(f\"'{date}' no es válida.\")\n"
   ]
  }
 ],
 "metadata": {
  "kernelspec": {
   "display_name": "base",
   "language": "python",
   "name": "python3"
  },
  "language_info": {
   "codemirror_mode": {
    "name": "ipython",
    "version": 3
   },
   "file_extension": ".py",
   "mimetype": "text/x-python",
   "name": "python",
   "nbconvert_exporter": "python",
   "pygments_lexer": "ipython3",
   "version": "3.11.4"
  },
  "orig_nbformat": 4
 },
 "nbformat": 4,
 "nbformat_minor": 2
}
